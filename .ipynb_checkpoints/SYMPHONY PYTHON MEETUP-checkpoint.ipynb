{
 "cells": [
  {
   "cell_type": "code",
   "execution_count": null,
   "metadata": {
    "collapsed": false
   },
   "outputs": [],
   "source": [
    "import this"
   ]
  },
  {
   "cell_type": "code",
   "execution_count": null,
   "metadata": {
    "collapsed": false
   },
   "outputs": [],
   "source": [
    "import sys\n",
    "print(sys.version)"
   ]
  },
  {
   "cell_type": "markdown",
   "metadata": {},
   "source": [
    "# Data structures manipulation\n",
    "\n",
    "One of the main reasons python is so popular in the data science world is its expresivnes when handling data structures.\n",
    "We will try to feature some of the best features when manipulating data in Python.\n",
    "\n",
    "First lets introduce the most common data strucures used in Python.\n",
    "\n",
    "## Lists\n",
    "\n",
    "List is the most used data structure in python it is used to stre and manipulate sequences of data. \n",
    "This structure is mutable and every element of the list can be of different type.\n",
    "\n"
   ]
  },
  {
   "cell_type": "code",
   "execution_count": null,
   "metadata": {
    "collapsed": false
   },
   "outputs": [],
   "source": [
    "# List construction\n",
    "empty_list = []\n",
    "number_list = [1, 2, 3]\n",
    "mixed_type_list = [2.3, \"Symphony is Awesome\", 4]\n",
    "random_list = list([1,2,3])\n",
    "\n",
    "# Access list elements \n",
    "print(number_list[0])\n",
    "print(mixed_type_list[1]) #zero-index based\n"
   ]
  },
  {
   "cell_type": "code",
   "execution_count": null,
   "metadata": {
    "collapsed": false
   },
   "outputs": [],
   "source": [
    "# Mutate a list\n",
    "number_list.append(4)\n",
    "print(number_list)"
   ]
  },
  {
   "cell_type": "code",
   "execution_count": null,
   "metadata": {
    "collapsed": false
   },
   "outputs": [],
   "source": [
    "# Mutate a list - change\n",
    "number_list[0] = 0\n",
    "print(number_list)\n"
   ]
  },
  {
   "cell_type": "code",
   "execution_count": null,
   "metadata": {
    "collapsed": false
   },
   "outputs": [],
   "source": [
    "# Mutate a list - remove from end\n",
    "number_list.pop()\n",
    "print(number_list)"
   ]
  },
  {
   "cell_type": "code",
   "execution_count": null,
   "metadata": {
    "collapsed": false
   },
   "outputs": [],
   "source": [
    "# Mutate a list - remove an element\n",
    "number_list.remove(2)\n",
    "print(number_list)"
   ]
  },
  {
   "cell_type": "code",
   "execution_count": 42,
   "metadata": {
    "collapsed": false
   },
   "outputs": [
    {
     "name": "stdout",
     "output_type": "stream",
     "text": [
      "[1, 2, 3, 4, 5, 6]\n"
     ]
    }
   ],
   "source": [
    "# List concatanation \n",
    "first = [1,2,3]\n",
    "second = [4,5,6]\n",
    "\n",
    "result_list = first + second\n",
    "print(result_list)"
   ]
  },
  {
   "cell_type": "code",
   "execution_count": 43,
   "metadata": {
    "collapsed": false
   },
   "outputs": [
    {
     "name": "stdout",
     "output_type": "stream",
     "text": [
      "[1, 2, 3, 1, 2, 3, 1, 2, 3]\n"
     ]
    }
   ],
   "source": [
    "# List repeat\n",
    "repeat_list = first * 3\n",
    "print(repeat_list)"
   ]
  },
  {
   "cell_type": "code",
   "execution_count": 44,
   "metadata": {
    "collapsed": false
   },
   "outputs": [
    {
     "name": "stdout",
     "output_type": "stream",
     "text": [
      "[2, 3]\n"
     ]
    }
   ],
   "source": [
    "#list slicing \n",
    "\n",
    "sliced_list = repeat_list[1:3]\n",
    "print(sliced_list)"
   ]
  },
  {
   "cell_type": "code",
   "execution_count": null,
   "metadata": {
    "collapsed": false
   },
   "outputs": [],
   "source": [
    "#negative indexing\n",
    "print(repeat_list)\n",
    "print(repeat_list[-1])\n",
    "print(repeat_list[-2])"
   ]
  },
  {
   "cell_type": "code",
   "execution_count": 45,
   "metadata": {
    "collapsed": false
   },
   "outputs": [
    {
     "name": "stdout",
     "output_type": "stream",
     "text": [
      "[1, 2, 3, 1, 2, 3, 1, 2, 3]\n",
      "[1, 1, 1]\n"
     ]
    }
   ],
   "source": [
    "# list steping\n",
    "print(repeat_list)\n",
    "print(repeat_list[::3])\n"
   ]
  },
  {
   "cell_type": "code",
   "execution_count": 46,
   "metadata": {
    "collapsed": false
   },
   "outputs": [
    {
     "name": "stdout",
     "output_type": "stream",
     "text": [
      "[2, 2, 2]\n"
     ]
    }
   ],
   "source": [
    "print(repeat_list[1::3])"
   ]
  },
  {
   "cell_type": "code",
   "execution_count": null,
   "metadata": {
    "collapsed": false
   },
   "outputs": [],
   "source": [
    "# what will this print out?\n",
    "print(repeat_list[1:6:3])"
   ]
  },
  {
   "cell_type": "code",
   "execution_count": 47,
   "metadata": {
    "collapsed": false
   },
   "outputs": [
    {
     "name": "stdout",
     "output_type": "stream",
     "text": [
      "[3, 2, 1, 3, 2, 1, 3, 2, 1]\n"
     ]
    }
   ],
   "source": [
    "print(repeat_list[::-1])"
   ]
  },
  {
   "cell_type": "markdown",
   "metadata": {},
   "source": [
    "List is a *ITERABLE* object in python - which means it can be accesed in a sequentially manner. \n",
    "\n",
    "For sequentlal access `For` loops can be used which in python are more like `foreach` loops in other languages.\n"
   ]
  },
  {
   "cell_type": "code",
   "execution_count": null,
   "metadata": {
    "collapsed": false
   },
   "outputs": [],
   "source": [
    "string_list = [\"Symphony\", \"<3\", \"Python\"]\n",
    "\n",
    "for element in string_list:\n",
    "    print(element)\n",
    "    "
   ]
  },
  {
   "cell_type": "markdown",
   "metadata": {},
   "source": [
    "---\n",
    "## Quick look at Strings \n",
    "\n",
    "Strings in python have the same purpose as in every language - to store and manipulate with sequences of characters.\n",
    "Funcionaly they have the same features as Lists, so most of the things you could do with list you can also do with strings. \n"
   ]
  },
  {
   "cell_type": "code",
   "execution_count": null,
   "metadata": {
    "collapsed": false
   },
   "outputs": [],
   "source": [
    "# string access \n",
    "example_string = \"Hello World \"\n",
    "print(example_string[0])\n",
    "\n",
    "repeat_str = example_string * 3\n",
    "print(repeat_str)\n",
    "\n",
    "\n",
    "print(example_string[::-1])"
   ]
  },
  {
   "cell_type": "code",
   "execution_count": null,
   "metadata": {
    "collapsed": true
   },
   "outputs": [],
   "source": [
    "symp_str = \"SymphonyMeetup\"\n",
    "\n",
    "print(symp_str[3::4] + symp_str[4:7])"
   ]
  },
  {
   "cell_type": "markdown",
   "metadata": {},
   "source": [
    "## Tuple \n",
    "\n",
    "Tuple is a immutable data structure in python and is mostly used as Record storing structure - storing data that is closely related."
   ]
  },
  {
   "cell_type": "code",
   "execution_count": 11,
   "metadata": {
    "collapsed": false
   },
   "outputs": [
    {
     "name": "stdout",
     "output_type": "stream",
     "text": [
      "(\"44° 48' 14 N\", \"20° 27' 54 E\")\n",
      "(\"44° 48' 14 N\", \"20° 27' 54 E\")\n"
     ]
    }
   ],
   "source": [
    "belgrade = (\"44° 48' 14 N\", \"20° 27' 54 E\")\n",
    "print(belgrade)\n",
    "# or, in sprit of python :) \n",
    "belgrade = \"44° 48' 14 N\", \"20° 27' 54 E\"\n",
    "print(belgrade)"
   ]
  },
  {
   "cell_type": "code",
   "execution_count": 12,
   "metadata": {
    "collapsed": false
   },
   "outputs": [
    {
     "name": "stdout",
     "output_type": "stream",
     "text": [
      "44° 48' 14 N\n",
      "20° 27' 54 E\n"
     ]
    }
   ],
   "source": [
    "# upacking \n",
    "lat, long = belgrade\n",
    "print(lat)\n",
    "print(long)"
   ]
  },
  {
   "cell_type": "code",
   "execution_count": 13,
   "metadata": {
    "collapsed": false
   },
   "outputs": [
    {
     "ename": "TypeError",
     "evalue": "'tuple' object does not support item assignment",
     "output_type": "error",
     "traceback": [
      "\u001b[0;31m---------------------------------------------------------------------------\u001b[0m",
      "\u001b[0;31mTypeError\u001b[0m                                 Traceback (most recent call last)",
      "\u001b[0;32m<ipython-input-13-e6d4cfaa9bd6>\u001b[0m in \u001b[0;36m<module>\u001b[0;34m()\u001b[0m\n\u001b[0;32m----> 1\u001b[0;31m \u001b[0mbelgrade\u001b[0m\u001b[0;34m[\u001b[0m\u001b[0;36m0\u001b[0m\u001b[0;34m]\u001b[0m \u001b[0;34m=\u001b[0m \u001b[0;34m\"dfdf\"\u001b[0m\u001b[0;34m\u001b[0m\u001b[0m\n\u001b[0m",
      "\u001b[0;31mTypeError\u001b[0m: 'tuple' object does not support item assignment"
     ]
    }
   ],
   "source": [
    "belgrade[0] = \"dfdf\""
   ]
  },
  {
   "cell_type": "code",
   "execution_count": 17,
   "metadata": {
    "collapsed": false
   },
   "outputs": [
    {
     "name": "stdout",
     "output_type": "stream",
     "text": [
      "a: 50\n",
      "b: 10\n"
     ]
    }
   ],
   "source": [
    "a = 10 \n",
    "b = 50\n",
    "# how to swap to values in Py? Using tuples\n",
    "\n",
    "b, a = a, b\n",
    "print(f\"a: {a}\")\n",
    "print(f\"b: {b}\")\n"
   ]
  },
  {
   "cell_type": "markdown",
   "metadata": {},
   "source": [
    "---\n",
    "## Dictionaries \n",
    "are python data strucure for manipulating key value pair. Every entry in a dict must be tied to a key.\n",
    "\n",
    "In the background dictionaries are actually Hash tables, they are used everywhere in python's core codebase, so they are very optimized for speedy usage."
   ]
  },
  {
   "cell_type": "code",
   "execution_count": 18,
   "metadata": {
    "collapsed": false
   },
   "outputs": [
    {
     "name": "stdout",
     "output_type": "stream",
     "text": [
      "this is a number\n"
     ]
    }
   ],
   "source": [
    "empty_dict = {}\n",
    "\n",
    "populated_dict = {\n",
    "                    \"email\": \"hello@symhphony.is\",\n",
    "                    5 : \"this is a number\",\n",
    "                    \"phone\" : 124123\n",
    "                 }\n",
    "\n",
    "print(populated_dict[5])"
   ]
  },
  {
   "cell_type": "code",
   "execution_count": 20,
   "metadata": {
    "collapsed": false
   },
   "outputs": [
    {
     "name": "stdout",
     "output_type": "stream",
     "text": [
      "hello@symhphony.is\n"
     ]
    }
   ],
   "source": [
    "print(populated_dict['email'])"
   ]
  },
  {
   "cell_type": "code",
   "execution_count": 26,
   "metadata": {
    "collapsed": false
   },
   "outputs": [
    {
     "name": "stdout",
     "output_type": "stream",
     "text": [
      "Guido\n",
      "van Rossum\n",
      "['guido@python.com', '31.1.1956']\n"
     ]
    }
   ],
   "source": [
    "# some new features\n",
    "# dict unpacking\n",
    "\n",
    "guido_dict = {\n",
    "            \"first_name\": \"Guido\",\n",
    "            \"last_name\": \"van Rossum\",\n",
    "            \"email\": \"guido@python.com\",\n",
    "            \"date_of_birth\": \"31.1.1956\"\n",
    "            }\n",
    "\n",
    "first_name, last_name, *other = guido_dict.values()\n",
    "print(first_name)\n",
    "print(last_name)\n",
    "print(other)\n",
    "\n"
   ]
  },
  {
   "cell_type": "code",
   "execution_count": 28,
   "metadata": {
    "collapsed": false
   },
   "outputs": [
    {
     "name": "stdout",
     "output_type": "stream",
     "text": [
      "{'first_name': 'Guido', 'last_name': 'van Rossum', 'email': 'guido@python.com', 'date_of_birth': '31.1.1956', 'phone': '111-111-11'}\n"
     ]
    }
   ],
   "source": [
    "new_guido_dict = {**guido_dict, \"phone\": \"111-111-11\"}\n",
    "print(new_guido_dict)"
   ]
  },
  {
   "cell_type": "markdown",
   "metadata": {},
   "source": [
    "---\n",
    "Let's get into more interesting parts :)\n",
    "## Comprehensions \n",
    " \n",
    "One of the trade-mark features of python are List/Dict/Tuple Comprehensions.\n",
    "\n",
    "What do they actually do: \n",
    "* more simpler way of writing for loops\n",
    "* more elegant way of generating new Lists/Dicts/Tuples\n",
    "* lambda alternative \n",
    "\n",
    "### List comprehensions"
   ]
  },
  {
   "cell_type": "code",
   "execution_count": 37,
   "metadata": {
    "collapsed": false
   },
   "outputs": [
    {
     "name": "stdout",
     "output_type": "stream",
     "text": [
      "[2, 4, 6, 8, 10]\n"
     ]
    }
   ],
   "source": [
    "example_list = [1,2,3,4,5]\n",
    "new_list = []\n",
    "\n",
    "for element in example_list:\n",
    "    new_list.append(element * 2)\n",
    "    \n",
    "print(new_list)"
   ]
  },
  {
   "cell_type": "code",
   "execution_count": 39,
   "metadata": {
    "collapsed": false
   },
   "outputs": [
    {
     "name": "stdout",
     "output_type": "stream",
     "text": [
      "[2, 4, 6, 8, 10]\n"
     ]
    }
   ],
   "source": [
    "example_list = [1,2,3,4,5]\n",
    "new_list = [element * 2 for element in example_list]\n",
    "print(new_list)"
   ]
  },
  {
   "cell_type": "code",
   "execution_count": 29,
   "metadata": {
    "collapsed": false
   },
   "outputs": [
    {
     "name": "stdout",
     "output_type": "stream",
     "text": [
      "1\n",
      "2\n",
      "3\n",
      "4\n",
      "5\n"
     ]
    }
   ],
   "source": [
    "example_list = [1,2,3,4,5]\n",
    "\n",
    "for element in example_list:\n",
    "    print(element)"
   ]
  },
  {
   "cell_type": "code",
   "execution_count": 35,
   "metadata": {
    "collapsed": false
   },
   "outputs": [
    {
     "name": "stdout",
     "output_type": "stream",
     "text": [
      "1\n",
      "2\n",
      "3\n",
      "4\n",
      "5\n"
     ]
    }
   ],
   "source": [
    "#or with list comprehensions\n",
    "example_list = [1,2,3,4,5]\n",
    "\n",
    "_ = [print(element) for element in example_list] "
   ]
  },
  {
   "cell_type": "code",
   "execution_count": 50,
   "metadata": {
    "collapsed": false
   },
   "outputs": [
    {
     "name": "stdout",
     "output_type": "stream",
     "text": [
      "[2, 4]\n"
     ]
    }
   ],
   "source": [
    "#filtering\n",
    "example_list = [1,2,3,4,5]\n",
    "\n",
    "filtered_list = [element for element in example_list if element % 2 == 0] #if element % 2 == 0 checks elements parity\n",
    "\n",
    "print(filtered_list)"
   ]
  },
  {
   "cell_type": "markdown",
   "metadata": {},
   "source": [
    "### Dict Comprehension"
   ]
  },
  {
   "cell_type": "code",
   "execution_count": 52,
   "metadata": {
    "collapsed": false
   },
   "outputs": [
    {
     "name": "stdout",
     "output_type": "stream",
     "text": [
      "{1: '1', 2: '2', 3: '3', 4: '4', 5: '5'}\n"
     ]
    }
   ],
   "source": [
    "example_list = [1,2,3,4,5]\n",
    "\n",
    "new_dict = {element: str(element) for element in example_list} # str() takes an argument number and returns its string represantatio\n",
    "\n",
    "print(new_dict)"
   ]
  },
  {
   "cell_type": "markdown",
   "metadata": {},
   "source": [
    "---\n",
    "## Object-oriented programming in python\n"
   ]
  },
  {
   "cell_type": "code",
   "execution_count": 58,
   "metadata": {
    "collapsed": false
   },
   "outputs": [
    {
     "name": "stdout",
     "output_type": "stream",
     "text": [
      "4\n",
      "5\n",
      "6\n",
      "7\n",
      "8\n",
      "9\n"
     ]
    }
   ],
   "source": [
    "class Counter:\n",
    "    def __init__(self, low, high):\n",
    "        self.current = low\n",
    "        self.high = high\n",
    "\n",
    "    def __iter__(self):\n",
    "        return self\n",
    "\n",
    "    def __next__(self):\n",
    "        if self.current > self.high:\n",
    "            raise StopIteration\n",
    "        else:\n",
    "            self.current += 1\n",
    "            return self.current\n",
    "\n",
    "for c in Counter(3, 8):\n",
    "    print(c)"
   ]
  },
  {
   "cell_type": "markdown",
   "metadata": {},
   "source": [
    "```java\n",
    "public class FactorialIteartor implements Iterator<Integer> {\n",
    "    private Integer high;\n",
    "    private Integer low\n",
    "    \n",
    "    public FactorialIteartor(Integer high, Integer low) {\n",
    "        this.high = high;\n",
    "        this.current = low;\n",
    "    }\n",
    "\n",
    "    @Override\n",
    "    public boolean hasNext() {\n",
    "        return current <= high;\n",
    "    }\n",
    "\n",
    "    @Override\n",
    "    public Integer next() {\n",
    "        if (!hasNext())\n",
    "            return 0;\n",
    "        \n",
    "        this.current++;\n",
    "\n",
    "        return this.current; \n",
    "    }\n",
    "}\n",
    "```"
   ]
  }
 ],
 "metadata": {
  "kernelspec": {
   "display_name": "iregular-free-face",
   "language": "python",
   "name": "iregular-free-face"
  },
  "language_info": {
   "codemirror_mode": {
    "name": "ipython",
    "version": 3
   },
   "file_extension": ".py",
   "mimetype": "text/x-python",
   "name": "python",
   "nbconvert_exporter": "python",
   "pygments_lexer": "ipython3",
   "version": "3.6.1"
  }
 },
 "nbformat": 4,
 "nbformat_minor": 0
}
