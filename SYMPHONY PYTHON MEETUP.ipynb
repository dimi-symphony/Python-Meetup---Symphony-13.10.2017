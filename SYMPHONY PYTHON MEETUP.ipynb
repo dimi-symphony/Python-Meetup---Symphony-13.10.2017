{
 "cells": [
  {
   "cell_type": "code",
   "execution_count": 41,
   "metadata": {
    "collapsed": false
   },
   "outputs": [
    {
     "name": "stdout",
     "output_type": "stream",
     "text": [
      "3.6.1 (v3.6.1:69c0db5050, Mar 21 2017, 01:21:04) \n",
      "[GCC 4.2.1 (Apple Inc. build 5666) (dot 3)]\n"
     ]
    }
   ],
   "source": [
    "import sys\n",
    "print(sys.version)"
   ]
  },
  {
   "cell_type": "markdown",
   "metadata": {},
   "source": [
    "# Data structures manipulation\n",
    "\n",
    "One of the main reasons python is so popular in the data science world is its expresivnes when handling data structures.\n",
    "We will try to feature some of the best features when manipulating data in Python.\n",
    "\n",
    "First lets introduce the most common data strucures used in Python.\n",
    "\n",
    "## Lists\n",
    "\n",
    "List is the most used data structure in python it is used to stre and manipulate sequences of data. \n",
    "This structure is mutable and every element of the list can be of different type.\n",
    "\n"
   ]
  },
  {
   "cell_type": "code",
   "execution_count": 2,
   "metadata": {
    "collapsed": false
   },
   "outputs": [
    {
     "name": "stdout",
     "output_type": "stream",
     "text": [
      "1\n",
      "Symphony is Awesome\n"
     ]
    }
   ],
   "source": [
    "# List construction\n",
    "empty_list = []\n",
    "number_list = [1, 2, 3]\n",
    "mixed_type_list = [2.3, \"Symphony is Awesome\", 4]\n",
    "random_list = list([1,2,3])\n",
    "\n",
    "# Access list elements \n",
    "print(number_list[0])\n",
    "print(mixed_type_list[1]) #zero-index based\n"
   ]
  },
  {
   "cell_type": "code",
   "execution_count": 3,
   "metadata": {
    "collapsed": false
   },
   "outputs": [
    {
     "name": "stdout",
     "output_type": "stream",
     "text": [
      "[1, 2, 3, 4]\n"
     ]
    }
   ],
   "source": [
    "# Mutate a list\n",
    "number_list.append(4)\n",
    "print(number_list)"
   ]
  },
  {
   "cell_type": "code",
   "execution_count": 4,
   "metadata": {
    "collapsed": false
   },
   "outputs": [
    {
     "name": "stdout",
     "output_type": "stream",
     "text": [
      "[0, 2, 3, 4]\n"
     ]
    }
   ],
   "source": [
    "# Mutate a list - change\n",
    "number_list[0] = 0\n",
    "print(number_list)\n"
   ]
  },
  {
   "cell_type": "code",
   "execution_count": 5,
   "metadata": {
    "collapsed": false
   },
   "outputs": [
    {
     "name": "stdout",
     "output_type": "stream",
     "text": [
      "[0, 2, 3]\n"
     ]
    }
   ],
   "source": [
    "# Mutate a list - remove from end\n",
    "number_list.pop()\n",
    "print(number_list)"
   ]
  },
  {
   "cell_type": "code",
   "execution_count": 7,
   "metadata": {
    "collapsed": false
   },
   "outputs": [
    {
     "name": "stdout",
     "output_type": "stream",
     "text": [
      "[0, 3]\n"
     ]
    }
   ],
   "source": [
    "# Mutate a list - remove element\n",
    "number_list.remove(2)\n",
    "print(number_list)"
   ]
  },
  {
   "cell_type": "code",
   "execution_count": 14,
   "metadata": {
    "collapsed": false
   },
   "outputs": [
    {
     "name": "stdout",
     "output_type": "stream",
     "text": [
      "[1, 2, 3, 4, 5, 6]\n"
     ]
    }
   ],
   "source": [
    "# List concatanation \n",
    "first = [1,2,3]\n",
    "second = [4,5,6]\n",
    "\n",
    "result_list = first + second\n",
    "print(result_list)"
   ]
  },
  {
   "cell_type": "code",
   "execution_count": 24,
   "metadata": {
    "collapsed": false
   },
   "outputs": [
    {
     "name": "stdout",
     "output_type": "stream",
     "text": [
      "[1, 2, 3, 1, 2, 3, 1, 2, 3]\n"
     ]
    }
   ],
   "source": [
    "# List repeat\n",
    "repeat_list = first * 3\n",
    "print(repeat_list)"
   ]
  },
  {
   "cell_type": "code",
   "execution_count": 16,
   "metadata": {
    "collapsed": false
   },
   "outputs": [
    {
     "name": "stdout",
     "output_type": "stream",
     "text": [
      "[2, 3]\n"
     ]
    }
   ],
   "source": [
    "#list slicing \n",
    "\n",
    "sliced_list = repeat_list[1:3]\n",
    "print(sliced_list)"
   ]
  },
  {
   "cell_type": "code",
   "execution_count": 25,
   "metadata": {
    "collapsed": false
   },
   "outputs": [
    {
     "name": "stdout",
     "output_type": "stream",
     "text": [
      "[1, 2, 3, 1, 2, 3, 1, 2, 3]\n",
      "3\n",
      "2\n"
     ]
    }
   ],
   "source": [
    "#negative indexing\n",
    "print(repeat_list)\n",
    "print(repeat_list[-1])\n",
    "print(repeat_list[-2])"
   ]
  },
  {
   "cell_type": "code",
   "execution_count": 26,
   "metadata": {
    "collapsed": false
   },
   "outputs": [
    {
     "name": "stdout",
     "output_type": "stream",
     "text": [
      "[1, 2, 3, 1, 2, 3, 1, 2, 3]\n",
      "[1, 1, 1]\n"
     ]
    }
   ],
   "source": [
    "# list steping\n",
    "print(repeat_list)\n",
    "print(repeat_list[::3])\n"
   ]
  },
  {
   "cell_type": "code",
   "execution_count": 27,
   "metadata": {
    "collapsed": false
   },
   "outputs": [
    {
     "name": "stdout",
     "output_type": "stream",
     "text": [
      "[2, 2, 2]\n"
     ]
    }
   ],
   "source": [
    "print(repeat_list[1::3])"
   ]
  },
  {
   "cell_type": "code",
   "execution_count": 28,
   "metadata": {
    "collapsed": false
   },
   "outputs": [
    {
     "name": "stdout",
     "output_type": "stream",
     "text": [
      "[2, 2]\n"
     ]
    }
   ],
   "source": [
    "# what will this print out?\n",
    "print(repeat_list[1:6:3])"
   ]
  },
  {
   "cell_type": "code",
   "execution_count": 29,
   "metadata": {
    "collapsed": false
   },
   "outputs": [
    {
     "name": "stdout",
     "output_type": "stream",
     "text": [
      "[3, 2, 1, 3, 2, 1, 3, 2, 1]\n"
     ]
    }
   ],
   "source": [
    "print(repeat_list[::-1])"
   ]
  },
  {
   "cell_type": "markdown",
   "metadata": {},
   "source": [
    "List is a *ITERABLE* object in python - which means it can be accesed in a sequentially manner. \n",
    "\n",
    "For sequentlal access `For` loops can be used which in python are more like `foreach` loops in other languages.\n"
   ]
  },
  {
   "cell_type": "code",
   "execution_count": 39,
   "metadata": {
    "collapsed": false
   },
   "outputs": [
    {
     "name": "stdout",
     "output_type": "stream",
     "text": [
      "Symphony\n",
      "<3\n",
      "Python\n"
     ]
    }
   ],
   "source": [
    "string_list = [\"Symphony\", \"<3\", \"Python\"]\n",
    "\n",
    "for element in string_list:\n",
    "    print(element)\n",
    "    "
   ]
  },
  {
   "cell_type": "markdown",
   "metadata": {},
   "source": [
    "---\n",
    "## Quick look at Strings \n",
    "\n",
    "Strings in python have the same purpose as in every language - to store and manipulate with sequences of characters.\n",
    "Funcionaly they have the same features as Lists, so most of the things you could do with list you can also do with strings. \n"
   ]
  },
  {
   "cell_type": "code",
   "execution_count": 38,
   "metadata": {
    "collapsed": false
   },
   "outputs": [
    {
     "name": "stdout",
     "output_type": "stream",
     "text": [
      "H\n",
      "Hello World Hello World Hello World \n",
      " dlroW olleH\n"
     ]
    }
   ],
   "source": [
    "# string access \n",
    "example_string = \"Hello World \"\n",
    "print(example_string[0])\n",
    "\n",
    "repeat_str = example_string * 3\n",
    "print(repeat_str)\n",
    "\n",
    "\n",
    "print(example_string[::-1])"
   ]
  },
  {
   "cell_type": "markdown",
   "metadata": {},
   "source": [
    "## Tuple \n",
    "\n",
    "Tuple is a immutable data structure in python and is mostly used as Record storing structure - storing data that is closely related."
   ]
  },
  {
   "cell_type": "code",
   "execution_count": null,
   "metadata": {
    "collapsed": true
   },
   "outputs": [],
   "source": []
  }
 ],
 "metadata": {
  "kernelspec": {
   "display_name": "iregular-free-face",
   "language": "python",
   "name": "iregular-free-face"
  },
  "language_info": {
   "codemirror_mode": {
    "name": "ipython",
    "version": 3
   },
   "file_extension": ".py",
   "mimetype": "text/x-python",
   "name": "python",
   "nbconvert_exporter": "python",
   "pygments_lexer": "ipython3",
   "version": "3.6.1"
  }
 },
 "nbformat": 4,
 "nbformat_minor": 0
}
